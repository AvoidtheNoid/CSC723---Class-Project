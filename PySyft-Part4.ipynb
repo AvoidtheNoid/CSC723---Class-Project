{
 "cells": [
  {
   "cell_type": "code",
   "execution_count": 12,
   "metadata": {},
   "outputs": [
    {
     "name": "stderr",
     "output_type": "stream",
     "text": [
      "WARNING:root:Torch was already hooked... skipping hooking process\n"
     ]
    }
   ],
   "source": [
    "#Part 4: Federated Learning with Model Averaging\n",
    "import torch\n",
    "import syft as sy\n",
    "import copy\n",
    "hook = sy.TorchHook(torch)\n",
    "from torch import nn, optim"
   ]
  },
  {
   "cell_type": "code",
   "execution_count": 24,
   "metadata": {},
   "outputs": [],
   "source": [
    "#Step 1: Create Data Owners\n",
    "\n",
    "# create a couple workers\n",
    "\n",
    "bob = sy.VirtualWorker(hook, id=\"bob\")\n",
    "alice = sy.VirtualWorker(hook, id=\"alice\")\n",
    "secure_worker = sy.VirtualWorker(hook, id=\"secure_worker\")\n",
    "\n",
    "\n",
    "# A Toy Dataset\n",
    "data = torch.tensor([[0,0],[0,1],[1,0],[1,1.]], requires_grad=True)\n",
    "target = torch.tensor([[0],[0],[1],[1.]], requires_grad=True)\n",
    "\n",
    "# get pointers to training data on each worker by\n",
    "# sending some training data to bob and alice\n",
    "bobs_data = data[0:2].send(bob)\n",
    "bobs_target = target[0:2].send(bob)\n",
    "\n",
    "alices_data = data[2:].send(alice)\n",
    "alices_target = target[2:].send(alice)"
   ]
  },
  {
   "cell_type": "code",
   "execution_count": 25,
   "metadata": {},
   "outputs": [],
   "source": [
    "#Step 2: Create Our Model\n",
    "\n",
    "# Iniitalize A Toy Model\n",
    "model = nn.Linear(2,1)"
   ]
  },
  {
   "cell_type": "code",
   "execution_count": 26,
   "metadata": {},
   "outputs": [],
   "source": [
    "#Step 3: Send a Copy of the Model to Alice and Bob\n",
    "bobs_model = model.copy().send(bob)\n",
    "alices_model = model.copy().send(alice)\n",
    "\n",
    "bobs_opt = optim.SGD(params=bobs_model.parameters(),lr=0.1)\n",
    "alices_opt = optim.SGD(params=alices_model.parameters(),lr=0.1)"
   ]
  },
  {
   "cell_type": "code",
   "execution_count": 27,
   "metadata": {},
   "outputs": [
    {
     "name": "stdout",
     "output_type": "stream",
     "text": [
      "Bob:tensor(0.0828) Alice:tensor(3.4268)\n",
      "Bob:tensor(0.0344) Alice:tensor(0.1804)\n",
      "Bob:tensor(0.0211) Alice:tensor(0.1296)\n",
      "Bob:tensor(0.0162) Alice:tensor(0.1077)\n",
      "Bob:tensor(0.0134) Alice:tensor(0.0896)\n",
      "Bob:tensor(0.0113) Alice:tensor(0.0746)\n",
      "Bob:tensor(0.0096) Alice:tensor(0.0621)\n",
      "Bob:tensor(0.0082) Alice:tensor(0.0517)\n",
      "Bob:tensor(0.0070) Alice:tensor(0.0430)\n",
      "Bob:tensor(0.0060) Alice:tensor(0.0358)\n"
     ]
    }
   ],
   "source": [
    "#Step 4: Train Bob's and Alice's Models (in parallel)\n",
    "for i in range(10):\n",
    "\n",
    "    # Train Bob's Model\n",
    "    bobs_opt.zero_grad()\n",
    "    bobs_pred = bobs_model(bobs_data)\n",
    "    bobs_loss = ((bobs_pred - bobs_target)**2).sum()\n",
    "    bobs_loss.backward()\n",
    "\n",
    "    bobs_opt.step()\n",
    "    bobs_loss = bobs_loss.get().data\n",
    "\n",
    "    # Train Alice's Model\n",
    "    alices_opt.zero_grad()\n",
    "    alices_pred = alices_model(alices_data)\n",
    "    alices_loss = ((alices_pred - alices_target)**2).sum()\n",
    "    alices_loss.backward()\n",
    "\n",
    "    alices_opt.step()\n",
    "    alices_loss = alices_loss.get().data\n",
    "    \n",
    "    print(\"Bob:\" + str(bobs_loss) + \" Alice:\" + str(alices_loss))"
   ]
  },
  {
   "cell_type": "code",
   "execution_count": 28,
   "metadata": {},
   "outputs": [
    {
     "name": "stdout",
     "output_type": "stream",
     "text": [
      "{8907096184: Parameter containing:\n",
      "tensor([[0.4831, 0.1953]], requires_grad=True), 13063424338: Parameter containing:\n",
      "tensor([0.4072], requires_grad=True), 10935801832: Parameter containing:\n",
      "tensor([[0.1511, 0.0989]], requires_grad=True), 46175164514: Parameter containing:\n",
      "tensor([-0.0609], requires_grad=True), 24846122218: Parameter containing:\n",
      "tensor([[0.5275, 0.1584]], requires_grad=True), 40328432267: Parameter containing:\n",
      "tensor([0.3835], requires_grad=True), 99118562399: Parameter containing:\n",
      "tensor([[0.3171, 0.0224]], requires_grad=True), 48527867835: Parameter containing:\n",
      "tensor([-0.0074], requires_grad=True), 56625690104: Parameter containing:\n",
      "tensor([[0.5865, 0.1091]], requires_grad=True), 51608591515: Parameter containing:\n",
      "tensor([0.3523], requires_grad=True), 13348844409: Parameter containing:\n",
      "tensor([[ 0.4223, -0.0099]], requires_grad=True), 49700984658: Parameter containing:\n",
      "tensor([0.0121], requires_grad=True), 93657438650: Parameter containing:\n",
      "tensor([[0.6400, 0.0751]], requires_grad=True), 96212486219: Parameter containing:\n",
      "tensor([0.3178], requires_grad=True), 54186323810: Parameter containing:\n",
      "tensor([[ 0.5044, -0.0283]], requires_grad=True), 76021209823: Parameter containing:\n",
      "tensor([0.0227], requires_grad=True), 88602943117: Parameter containing:\n",
      "tensor([[0.6863, 0.0523]], requires_grad=True), 50621043890: Parameter containing:\n",
      "tensor([0.2844], requires_grad=True), 88419089167: Parameter containing:\n",
      "tensor([[ 0.5722, -0.0378]], requires_grad=True), 48855721905: Parameter containing:\n",
      "tensor([0.0279], requires_grad=True), 16367479560: Parameter containing:\n",
      "tensor([[0.7262, 0.0369]], requires_grad=True), 35227341392: Parameter containing:\n",
      "tensor([0.2531], requires_grad=True), 15998238253: Parameter containing:\n",
      "tensor([[ 0.6292, -0.0416]], requires_grad=True), 31458873172: Parameter containing:\n",
      "tensor([0.0297], requires_grad=True), 86090337134: Parameter containing:\n",
      "tensor([[0.7608, 0.0264]], requires_grad=True), 29128189502: Parameter containing:\n",
      "tensor([0.2244], requires_grad=True), 14726359672: Parameter containing:\n",
      "tensor([[ 0.6777, -0.0421]], requires_grad=True), 23713877990: Parameter containing:\n",
      "tensor([0.0295], requires_grad=True), 4952432445: Parameter containing:\n",
      "tensor([[0.7907, 0.0193]], requires_grad=True), 75456558075: Parameter containing:\n",
      "tensor([0.1984], requires_grad=True), 66776141333: Parameter containing:\n",
      "tensor([[ 0.7192, -0.0406]], requires_grad=True), 77638558280: Parameter containing:\n",
      "tensor([0.0281], requires_grad=True), 61127742652: Parameter containing:\n",
      "tensor([[0.8168, 0.0144]], requires_grad=True), 56184370442: Parameter containing:\n",
      "tensor([0.1751], requires_grad=True), 14183547211: Parameter containing:\n",
      "tensor([[ 0.7550, -0.0381]], requires_grad=True), 83400593538: Parameter containing:\n",
      "tensor([0.0261], requires_grad=True), 53312319206: Parameter containing:\n",
      "tensor([[0.8396, 0.0109]], requires_grad=True), 21992620350: Parameter containing:\n",
      "tensor([0.1543], requires_grad=True), 30978424551: Parameter containing:\n",
      "tensor([[ 0.7859, -0.0350]], requires_grad=True), 94513695009: Parameter containing:\n",
      "tensor([0.0239], requires_grad=True), 17948936755: Parameter containing:\n",
      "tensor([[0.8594, 0.0085]], requires_grad=True), 19132685488: Parameter containing:\n",
      "tensor([0.1358], requires_grad=True), 43739993974: Parameter containing:\n",
      "tensor([[ 0.8127, -0.0317]], requires_grad=True), 90068060955: Parameter containing:\n",
      "tensor([0.0216], requires_grad=True), 50208682223: Parameter containing:\n",
      "tensor([[-0.0657, -0.0616]], requires_grad=True), 65033542589: Parameter containing:\n",
      "tensor([1.1002], requires_grad=True), 65450049259: Parameter containing:\n",
      "tensor([[-0.5952, -0.2676]], requires_grad=True), 3346850975: Parameter containing:\n",
      "tensor([0.1655], requires_grad=True), 1483506191: Parameter containing:\n",
      "tensor([[ 0.1086, -0.0356]], requires_grad=True), 30840367921: Parameter containing:\n",
      "tensor([0.9114], requires_grad=True), 39309785341: Parameter containing:\n",
      "tensor([[-0.2821, -0.2087]], requires_grad=True), 97922128265: Parameter containing:\n",
      "tensor([0.1292], requires_grad=True), 94891760765: Parameter containing:\n",
      "tensor([[0.2158, 0.2423]], requires_grad=True), 73145549632: Parameter containing:\n",
      "tensor([0.6482], requires_grad=True), 72202847023: Parameter containing:\n",
      "tensor([[-0.4404,  0.0983]], requires_grad=True), 64187790151: Parameter containing:\n",
      "tensor([-0.0606], requires_grad=True)}\n"
     ]
    }
   ],
   "source": [
    "#Step 5: Send Both Updated Models to a Secure Worker¶\n",
    "\n",
    "alices_model.move(secure_worker)\n",
    "\n",
    "bobs_model.move(secure_worker)\n",
    "print(secure_worker._objects)"
   ]
  },
  {
   "cell_type": "code",
   "execution_count": 29,
   "metadata": {},
   "outputs": [],
   "source": [
    "#Step 6: Average the Models\n",
    "with torch.no_grad():\n",
    "    model.weight.set_(((alices_model.weight.data + bobs_model.weight.data) / 2).get())\n",
    "    model.bias.set_(((alices_model.bias.data + bobs_model.bias.data) / 2).get())"
   ]
  },
  {
   "cell_type": "code",
   "execution_count": 30,
   "metadata": {},
   "outputs": [
    {
     "name": "stdout",
     "output_type": "stream",
     "text": [
      "Linear(in_features=2, out_features=1, bias=True)\n",
      "Linear(in_features=2, out_features=1, bias=True)\n"
     ]
    }
   ],
   "source": [
    "print(alices_model)\n",
    "print(bobs_model)"
   ]
  },
  {
   "cell_type": "code",
   "execution_count": 9,
   "metadata": {},
   "outputs": [
    {
     "name": "stdout",
     "output_type": "stream",
     "text": [
      "Bob:tensor(0.0006) Alice:tensor(0.0153)\n",
      "Bob:tensor(0.0004) Alice:tensor(0.0073)\n",
      "Bob:tensor(0.0008) Alice:tensor(0.0034)\n",
      "Bob:tensor(0.0012) Alice:tensor(0.0017)\n",
      "Bob:tensor(0.0013) Alice:tensor(0.0008)\n",
      "Bob:tensor(0.0013) Alice:tensor(0.0004)\n",
      "Bob:tensor(0.0012) Alice:tensor(0.0002)\n",
      "Bob:tensor(0.0010) Alice:tensor(0.0001)\n",
      "Bob:tensor(0.0008) Alice:tensor(7.2784e-05)\n",
      "Bob:tensor(0.0007) Alice:tensor(4.3843e-05)\n"
     ]
    }
   ],
   "source": [
    "#Rinse and Repeat\n",
    "iterations = 10\n",
    "worker_iters = 5\n",
    "\n",
    "for a_iter in range(iterations):\n",
    "    \n",
    "    bobs_model = model.copy().send(bob)\n",
    "    alices_model = model.copy().send(alice)\n",
    "\n",
    "    bobs_opt = optim.SGD(params=bobs_model.parameters(),lr=0.1)\n",
    "    alices_opt = optim.SGD(params=alices_model.parameters(),lr=0.1)\n",
    "\n",
    "    for wi in range(worker_iters):\n",
    "\n",
    "        # Train Bob's Model\n",
    "        bobs_opt.zero_grad()\n",
    "        bobs_pred = bobs_model(bobs_data)\n",
    "        bobs_loss = ((bobs_pred - bobs_target)**2).sum()\n",
    "        bobs_loss.backward()\n",
    "\n",
    "        bobs_opt.step()\n",
    "        bobs_loss = bobs_loss.get().data\n",
    "\n",
    "        # Train Alice's Model\n",
    "        alices_opt.zero_grad()\n",
    "        alices_pred = alices_model(alices_data)\n",
    "        alices_loss = ((alices_pred - alices_target)**2).sum()\n",
    "        alices_loss.backward()\n",
    "\n",
    "        alices_opt.step()\n",
    "        alices_loss = alices_loss.get().data\n",
    "    \n",
    "    alices_model.move(secure_worker)\n",
    "    bobs_model.move(secure_worker)\n",
    "    with torch.no_grad():\n",
    "        model.weight.set_(((alices_model.weight.data + bobs_model.weight.data) / 2).get())\n",
    "        model.bias.set_(((alices_model.bias.data + bobs_model.bias.data) / 2).get())\n",
    "    \n",
    "    print(\"Bob:\" + str(bobs_loss) + \" Alice:\" + str(alices_loss))"
   ]
  },
  {
   "cell_type": "code",
   "execution_count": 10,
   "metadata": {},
   "outputs": [
    {
     "name": "stdout",
     "output_type": "stream",
     "text": [
      "tensor([[0.0787],\n",
      "        [0.0671],\n",
      "        [0.9148],\n",
      "        [0.9032]], grad_fn=<AddmmBackward>)\n",
      "tensor([[0.],\n",
      "        [0.],\n",
      "        [1.],\n",
      "        [1.]], requires_grad=True)\n",
      "tensor(0.0273)\n"
     ]
    }
   ],
   "source": [
    "preds = model(data)\n",
    "loss = ((preds - target) ** 2).sum()\n",
    "\n",
    "print(preds)\n",
    "print(target)\n",
    "print(loss.data)"
   ]
  },
  {
   "cell_type": "code",
   "execution_count": null,
   "metadata": {},
   "outputs": [],
   "source": []
  },
  {
   "cell_type": "code",
   "execution_count": null,
   "metadata": {},
   "outputs": [],
   "source": []
  }
 ],
 "metadata": {
  "kernelspec": {
   "display_name": "Python 3",
   "language": "python",
   "name": "python3"
  },
  "language_info": {
   "codemirror_mode": {
    "name": "ipython",
    "version": 3
   },
   "file_extension": ".py",
   "mimetype": "text/x-python",
   "name": "python",
   "nbconvert_exporter": "python",
   "pygments_lexer": "ipython3",
   "version": "3.7.6"
  }
 },
 "nbformat": 4,
 "nbformat_minor": 4
}
