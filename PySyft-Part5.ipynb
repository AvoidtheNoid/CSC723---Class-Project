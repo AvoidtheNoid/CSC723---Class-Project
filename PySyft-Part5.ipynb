{
 "cells": [
  {
   "cell_type": "code",
   "execution_count": 1,
   "metadata": {},
   "outputs": [
    {
     "name": "stderr",
     "output_type": "stream",
     "text": [
      "Falling back to insecure randomness since the required custom op could not be found for the installed version of TensorFlow. Fix this by compiling custom ops. Missing file was 'C:\\ProgramData\\Anaconda3\\lib\\site-packages\\tf_encrypted/operations/secure_random/secure_random_module_tf_1.15.2.so'\n"
     ]
    },
    {
     "name": "stdout",
     "output_type": "stream",
     "text": [
      "WARNING:tensorflow:From C:\\ProgramData\\Anaconda3\\lib\\site-packages\\tf_encrypted\\session.py:24: The name tf.Session is deprecated. Please use tf.compat.v1.Session instead.\n",
      "\n",
      "Setting up Sandbox...\n",
      "\t- Hooking PyTorch\n",
      "\t- Creating Virtual Workers:\n",
      "\t\t- bob\n",
      "\t\t- theo\n",
      "\t\t- jason\n",
      "\t\t- alice\n",
      "\t\t- andy\n",
      "\t\t- jon\n",
      "\tStoring hook and workers as global variables...\n",
      "\tLoading datasets from SciKit Learn...\n",
      "\t\t- Boston Housing Dataset\n",
      "\t\t- Diabetes Dataset\n",
      "\t\t- Breast Cancer Dataset\n",
      "\t- Digits Dataset\n",
      "\t\t- Iris Dataset\n",
      "\t\t- Wine Dataset\n",
      "\t\t- Linnerud Dataset\n",
      "\tDistributing Datasets Amongst Workers...\n",
      "\tCollecting workers into a VirtualGrid...\n",
      "Done!\n"
     ]
    }
   ],
   "source": [
    "#Part 5 - Welcome to the Sandbox\n",
    "import torch\n",
    "import syft as sy\n",
    "sy.create_sandbox(globals())"
   ]
  },
  {
   "cell_type": "code",
   "execution_count": 2,
   "metadata": {},
   "outputs": [
    {
     "name": "stdout",
     "output_type": "stream",
     "text": [
      "[<VirtualWorker id:bob #objects:14>, <VirtualWorker id:theo #objects:14>, <VirtualWorker id:jason #objects:14>, <VirtualWorker id:alice #objects:14>, <VirtualWorker id:andy #objects:14>, <VirtualWorker id:jon #objects:14>]\n",
      "<syft.frameworks.torch.hook.hook.TorchHook object at 0x000002D29960B108>\n",
      "<VirtualWorker id:bob #objects:14>\n"
     ]
    }
   ],
   "source": [
    "print(workers)\n",
    "print(hook)\n",
    "print(bob)"
   ]
  },
  {
   "cell_type": "code",
   "execution_count": 3,
   "metadata": {},
   "outputs": [
    {
     "data": {
      "text/plain": [
       "tensor([1, 2, 3, 4, 5])\n",
       "\tTags: #fun #boston #housing \n",
       "\tDescription: The input datapoints to the boston housing dataset....\n",
       "\tShape: torch.Size([5])"
      ]
     },
     "execution_count": 3,
     "metadata": {},
     "output_type": "execute_result"
    }
   ],
   "source": [
    "#Section 2: Worker Search Functionality\n",
    "torch.Tensor([1,2,3,4,5])\n",
    "\n",
    "x = torch.tensor([1,2,3,4,5]).tag(\"#fun\", \"#boston\", \"#housing\").describe(\"The input datapoints to the boston housing dataset.\")\n",
    "y = torch.tensor([1,2,3,4,5]).tag(\"#fun\", \"#boston\", \"#housing\").describe(\"The input datapoints to the boston housing dataset.\")\n",
    "z = torch.tensor([1,2,3,4,5]).tag(\"#fun\", \"#mnist\",).describe(\"The images in the MNIST training dataset.\")\n",
    "\n",
    "x"
   ]
  },
  {
   "cell_type": "code",
   "execution_count": 4,
   "metadata": {},
   "outputs": [
    {
     "name": "stdout",
     "output_type": "stream",
     "text": [
      "[(Wrapper)>[PointerTensor | me:30486509913 -> bob:87598097743]\n",
      "\tTags: .. #boston #housing _boston_dataset: #data #boston_housing \n",
      "\tShape: torch.Size([84, 13])\n",
      "\tDescription: .. _boston_dataset:..., (Wrapper)>[PointerTensor | me:41930181072 -> bob:91093188756]\n",
      "\tTags: .. #boston #target #housing _boston_dataset: #boston_housing \n",
      "\tShape: torch.Size([84])\n",
      "\tDescription: .. _boston_dataset:..., (Wrapper)>[PointerTensor | me:6951309626 -> bob:7099031720]\n",
      "\tTags: #fun #boston #housing \n",
      "\tShape: torch.Size([5])\n",
      "\tDescription: The input datapoints to the boston housing dataset...., (Wrapper)>[PointerTensor | me:85740963405 -> bob:40446221402]\n",
      "\tTags: #fun #boston #housing \n",
      "\tShape: torch.Size([5])\n",
      "\tDescription: The input datapoints to the boston housing dataset....]\n",
      ".. _boston_dataset:\n",
      "\n",
      "Boston house prices dataset\n",
      "---------------------------\n",
      "\n",
      "**Data Set Characteristics:**  \n",
      "\n",
      "    :Number of Instances: 506 \n",
      "\n",
      "    :Number of Attributes: 13 numeric/categorical predictive. Median Value (attribute 14) is usually the target.\n",
      "\n",
      "    :Attribute Information (in order):\n",
      "        - CRIM     per capita crime rate by town\n",
      "        - ZN       proportion of residential land zoned for lots over 25,000 sq.ft.\n",
      "        - INDUS    proportion of non-retail business acres per town\n",
      "        - CHAS     Charles River dummy variable (= 1 if tract bounds river; 0 otherwise)\n",
      "        - NOX      nitric oxides concentration (parts per 10 million)\n",
      "        - RM       average number of rooms per dwelling\n",
      "        - AGE      proportion of owner-occupied units built prior to 1940\n",
      "        - DIS      weighted distances to five Boston employment centres\n",
      "        - RAD      index of accessibility to radial highways\n",
      "        - TAX      full-value property-tax rate per $10,000\n",
      "        - PTRATIO  pupil-teacher ratio by town\n",
      "        - B        1000(Bk - 0.63)^2 where Bk is the proportion of blacks by town\n",
      "        - LSTAT    % lower status of the population\n",
      "        - MEDV     Median value of owner-occupied homes in $1000's\n",
      "\n",
      "    :Missing Attribute Values: None\n",
      "\n",
      "    :Creator: Harrison, D. and Rubinfeld, D.L.\n",
      "\n",
      "This is a copy of UCI ML housing dataset.\n",
      "https://archive.ics.uci.edu/ml/machine-learning-databases/housing/\n",
      "\n",
      "\n",
      "This dataset was taken from the StatLib library which is maintained at Carnegie Mellon University.\n",
      "\n",
      "The Boston house-price data of Harrison, D. and Rubinfeld, D.L. 'Hedonic\n",
      "prices and the demand for clean air', J. Environ. Economics & Management,\n",
      "vol.5, 81-102, 1978.   Used in Belsley, Kuh & Welsch, 'Regression diagnostics\n",
      "...', Wiley, 1980.   N.B. Various transformations are used in the table on\n",
      "pages 244-261 of the latter.\n",
      "\n",
      "The Boston house-price data has been used in many machine learning papers that address regression\n",
      "problems.   \n",
      "     \n",
      ".. topic:: References\n",
      "\n",
      "   - Belsley, Kuh & Welsch, 'Regression diagnostics: Identifying Influential Data and Sources of Collinearity', Wiley, 1980. 244-261.\n",
      "   - Quinlan,R. (1993). Combining Instance-Based and Model-Based Learning. In Proceedings on the Tenth International Conference of Machine Learning, 236-243, University of Massachusetts, Amherst. Morgan Kaufmann.\n",
      "\n"
     ]
    }
   ],
   "source": [
    "x = x.send(bob)\n",
    "y = y.send(bob)\n",
    "z = z.send(bob)\n",
    "\n",
    "# this searches for exact match within a tag or within the description\n",
    "results = bob.search([\"#boston\", \"#housing\"])\n",
    "\n",
    "print(results)\n",
    "print(results[0].description)"
   ]
  },
  {
   "cell_type": "code",
   "execution_count": 5,
   "metadata": {},
   "outputs": [
    {
     "name": "stdout",
     "output_type": "stream",
     "text": [
      "{'bob': [(Wrapper)>[PointerTensor | me:25794883152 -> bob:87598097743]\n",
      "\tTags: .. #boston #housing _boston_dataset: #data #boston_housing \n",
      "\tShape: torch.Size([84, 13])\n",
      "\tDescription: .. _boston_dataset:...], 'theo': [(Wrapper)>[PointerTensor | me:84251873233 -> theo:96586848957]\n",
      "\tTags: .. #boston #housing _boston_dataset: #data #boston_housing \n",
      "\tShape: torch.Size([84, 13])\n",
      "\tDescription: .. _boston_dataset:...], 'jason': [(Wrapper)>[PointerTensor | me:37728678120 -> jason:14063776848]\n",
      "\tTags: .. #boston #housing _boston_dataset: #data #boston_housing \n",
      "\tShape: torch.Size([84, 13])\n",
      "\tDescription: .. _boston_dataset:...], 'alice': [(Wrapper)>[PointerTensor | me:28773422243 -> alice:50850516204]\n",
      "\tTags: .. #boston #housing _boston_dataset: #data #boston_housing \n",
      "\tShape: torch.Size([84, 13])\n",
      "\tDescription: .. _boston_dataset:...], 'andy': [(Wrapper)>[PointerTensor | me:44079060551 -> andy:9509151923]\n",
      "\tTags: .. #boston #housing _boston_dataset: #data #boston_housing \n",
      "\tShape: torch.Size([84, 13])\n",
      "\tDescription: .. _boston_dataset:...], 'jon': [(Wrapper)>[PointerTensor | me:87341117574 -> jon:10069446418]\n",
      "\tTags: .. #boston #housing _boston_dataset: #data #boston_housing \n",
      "\tShape: torch.Size([86, 13])\n",
      "\tDescription: .. _boston_dataset:...]}\n",
      "{'bob': [(Wrapper)>[PointerTensor | me:4574922650 -> bob:91093188756]\n",
      "\tTags: .. #boston #target #housing _boston_dataset: #boston_housing \n",
      "\tShape: torch.Size([84])\n",
      "\tDescription: .. _boston_dataset:...], 'theo': [(Wrapper)>[PointerTensor | me:80155874339 -> theo:1863777494]\n",
      "\tTags: .. #boston #target #housing _boston_dataset: #boston_housing \n",
      "\tShape: torch.Size([84])\n",
      "\tDescription: .. _boston_dataset:...], 'jason': [(Wrapper)>[PointerTensor | me:83899712507 -> jason:45247685893]\n",
      "\tTags: .. #boston #target #housing _boston_dataset: #boston_housing \n",
      "\tShape: torch.Size([84])\n",
      "\tDescription: .. _boston_dataset:...], 'alice': [(Wrapper)>[PointerTensor | me:61492898154 -> alice:9471200873]\n",
      "\tTags: .. #boston #target #housing _boston_dataset: #boston_housing \n",
      "\tShape: torch.Size([84])\n",
      "\tDescription: .. _boston_dataset:...], 'andy': [(Wrapper)>[PointerTensor | me:59483557598 -> andy:15234630634]\n",
      "\tTags: .. #boston #target #housing _boston_dataset: #boston_housing \n",
      "\tShape: torch.Size([84])\n",
      "\tDescription: .. _boston_dataset:...], 'jon': [(Wrapper)>[PointerTensor | me:98594078972 -> jon:11830940807]\n",
      "\tTags: .. #boston #target #housing _boston_dataset: #boston_housing \n",
      "\tShape: torch.Size([86])\n",
      "\tDescription: .. _boston_dataset:...]}\n"
     ]
    }
   ],
   "source": [
    "#Section 3: Virtual Grid\n",
    "grid = sy.PrivateGridNetwork(*workers)\n",
    "results = grid.search(\"#boston\")\n",
    "\n",
    "boston_data = grid.search(\"#boston\",\"#data\")\n",
    "boston_target = grid.search(\"#boston\",\"#target\")\n",
    "\n",
    "print(boston_data)\n",
    "print(boston_target)"
   ]
  }
 ],
 "metadata": {
  "kernelspec": {
   "display_name": "Python 3",
   "language": "python",
   "name": "python3"
  },
  "language_info": {
   "codemirror_mode": {
    "name": "ipython",
    "version": 3
   },
   "file_extension": ".py",
   "mimetype": "text/x-python",
   "name": "python",
   "nbconvert_exporter": "python",
   "pygments_lexer": "ipython3",
   "version": "3.7.6"
  }
 },
 "nbformat": 4,
 "nbformat_minor": 4
}
